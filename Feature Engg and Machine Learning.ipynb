{
 "cells": [
  {
   "cell_type": "markdown",
   "metadata": {},
   "source": [
    "#BASIC FEATURE EXTRACTION"
   ]
  },
  {
   "cell_type": "code",
   "execution_count": 131,
   "metadata": {},
   "outputs": [],
   "source": [
    "df[\"num_words\"] = df[\"question_text\"].apply(lambda x: len(str(x).split()))\n",
    "\n",
    "\n",
    "## Number of unique words in the text ##\n",
    "df[\"num_unique_words\"] = df[\"question_text\"].apply(lambda x: len(set(str(x).split())))\n",
    "\n",
    "\n",
    "## Number of characters in the text ##\n",
    "df[\"char_count\"] = df[\"question_text\"].apply(lambda x: len(str(x)))\n",
    "\n",
    "\n",
    "## Number of stopwords in the text ##\n",
    "df[\"stopword_count\"] = df[\"question_text\"].apply(lambda x: len([w for w in str(x).lower().split() if w in STOPWORDS]))\n",
    "\n",
    "\n",
    "## Number of punctuations in the text ##\n",
    "df[\"punctuations_count\"] =df['question_text'].apply(lambda x: len([c for c in str(x) if c in string.punctuation]) )\n",
    "\n",
    "\n",
    "## Number of title case words in the text ##\n",
    "df[\"num_words_upper\"] = df[\"question_text\"].apply(lambda x: len([w for w in str(x).split() if w.isupper()]))\n",
    "\n",
    "## Number of title case words in the text ##\n",
    "df[\"num_words_title\"] = df[\"question_text\"].apply(lambda x: len([w for w in str(x).split() if w.istitle()]))\n",
    "\n",
    "def avg_word(sentence):\n",
    "  words = sentence.split()\n",
    "  return (sum(len(word) for word in words)/len(words))\n",
    "\n",
    "## Average length of the words in the text ##\n",
    "df[\"mean_word_len\"] = df[\"question_text\"].apply(lambda x:avg_word(x))\n"
   ]
  },
  {
   "cell_type": "code",
   "execution_count": null,
   "metadata": {},
   "outputs": [],
   "source": [
    "#https://pypi.org/project/textstat/\n",
    "#All the theory is well explained on the above link and wikipedia"
   ]
  },
  {
   "cell_type": "code",
   "execution_count": 13,
   "metadata": {},
   "outputs": [],
   "source": [
    "import textstat\n",
    "df['flesch_reading_ease']=df['question_text'].apply(lambda x:textstat.flesch_reading_ease(x))\n",
    "df['flesch_kincaid_grade']=df['question_text'].apply(lambda x:textstat.flesch_kincaid_grade(x))\n",
    "df['textstat.coleman_liau_index']=df['question_text'].apply(lambda x:textstat.coleman_liau_index(x))\n",
    "df['textstat.automated_readability_index']=df['question_text'].apply(lambda x:textstat.automated_readability_index(x))\n",
    "df['textstat.dale_chall_readability_score']=df['question_text'].apply(lambda x:textstat.dale_chall_readability_score(x))\n",
    "df['textstat.smog_index']=df['question_text'].apply(lambda x:textstat.smog_index(x))\n",
    "df['gunning_fog']=df['question_text'].apply(lambda x:textstat.gunning_fog(x))\n",
    "#df['text_standard']=df['question_text'].apply(lambda x:textstat.text_standard(x))\n",
    "df['linsear_write_formula']=df['question_text'].apply(lambda x:textstat.linsear_write_formula(x))\n",
    "df['difficult_words']=df['question_text'].apply(lambda x:textstat.difficult_words(x))                                                   "
   ]
  },
  {
   "cell_type": "code",
   "execution_count": 19,
   "metadata": {},
   "outputs": [],
   "source": [
    "#lets see their usefulness"
   ]
  },
  {
   "cell_type": "code",
   "execution_count": 65,
   "metadata": {},
   "outputs": [],
   "source": [
    "pos_dic = {\n",
    "    'noun' : ['NN','NNS','NNP','NNPS'],\n",
    "    'pron' : ['PRP','PRP$','WP','WP$'],\n",
    "    'verb' : ['VB','VBD','VBG','VBN','VBP','VBZ'],\n",
    "    'adj' :  ['JJ','JJR','JJS'],\n",
    "    'adv' : ['RB','RBR','RBS','WRB']\n",
    "}\n",
    "\n",
    "# function to check and get the part of speech tag count of a words in a given sentence\n",
    "def pos_check(x, flag):\n",
    "    cnt = 0\n",
    "    try:\n",
    "        wiki = TextBlob(x)\n",
    "        for tup in wiki.tags:\n",
    "            ppo = list(tup)[1]\n",
    "            if ppo in pos_dic[flag]:\n",
    "                cnt += 1\n",
    "    except:\n",
    "        pass\n",
    "    return cnt\n",
    "\n",
    "df['noun_count'] = df['question_text'].apply(lambda x: pos_check(x, 'noun'))\n",
    "df['verb_count'] = df['question_text'].apply(lambda x: pos_check(x, 'verb'))\n",
    "df['adj_count'] = df['question_text'].apply(lambda x: pos_check(x, 'adj'))\n",
    "df['adv_count'] = df['question_text'].apply(lambda x: pos_check(x, 'adv'))\n",
    "df['pron_count'] = df['question_text'].apply(lambda x: pos_check(x, 'pron'))"
   ]
  },
  {
   "cell_type": "code",
   "execution_count": null,
   "metadata": {},
   "outputs": [],
   "source": []
  },
  {
   "cell_type": "code",
   "execution_count": null,
   "metadata": {},
   "outputs": [],
   "source": []
  },
  {
   "cell_type": "markdown",
   "metadata": {},
   "source": [
    "#TOPIC MODELLING"
   ]
  },
  {
   "cell_type": "code",
   "execution_count": 147,
   "metadata": {},
   "outputs": [],
   "source": [
    "def add_features(df):\n",
    "    df[\"num_words\"] = df[\"question_text\"].apply(lambda x: len(str(x).split()))\n",
    "## Number of unique words in the text ##\n",
    "    df[\"num_unique_words\"] = df[\"question_text\"].apply(lambda x: len(set(str(x).split())))\n",
    "## Number of characters in the text ##\n",
    "    df[\"char_count\"] = df[\"question_text\"].apply(lambda x: len(str(x)))\n",
    "## Number of stopwords in the text ##\n",
    "    df[\"stopword_count\"] = df[\"question_text\"].apply(lambda x: len([w for w in str(x).lower().split() if w in STOPWORDS]))\n",
    "## Number of punctuations in the text ##\n",
    "    df[\"punctuations_count\"] =df['question_text'].apply(lambda x: len([c for c in str(x) if c in string.punctuation]) )\n",
    "## Number of title case words in the text ##\n",
    "    df[\"num_words_upper\"] = df[\"question_text\"].apply(lambda x: len([w for w in str(x).split() if w.isupper()]))\n",
    "## Number of title case words in the text ##\n",
    "    df[\"num_words_title\"] = df[\"question_text\"].apply(lambda x: len([w for w in str(x).split() if w.istitle()]))\n",
    "## Average length of the words in the text ##\n",
    "    df[\"mean_word_len\"] = df[\"question_text\"].apply(lambda x: np.mean([len(w) for w in str(x).split()]))\n",
    "\n",
    "    df['text_polarity'] = df['question_text'].apply(lambda x: getpolarity(x))\n",
    "    df['text_subjectivity'] = df['question_text'].apply(lambda x: getsubjectivity(x))  \n",
    "    df[\"lower_question_text\"] = df[\"question_text\"].apply(lambda x: x.lower())\n",
    "    df['num_exclamation_marks'] = df['question_text'].apply(lambda comment: comment.count('!'))\n",
    "    df['num_question_marks'] = df['question_text'].apply(lambda comment: comment.count('?'))\n",
    "    df['num_symbols'] = df['question_text'].apply(lambda comment: sum(comment.count(w) for w in '*&$%'))\n",
    "    df['num_smilies'] = df['question_text'].apply(lambda comment: sum(comment.count(w) for w in (':-)', ':)', ';-)', ';)')))\n",
    "    df['num_sad'] = df['question_text'].apply(lambda comment: sum(comment.count(w) for w in (':-<', ':()', ';-()', ';(')))\n",
    "    \n",
    "    # Number of F word\n",
    "    df[\"nb_fk\"] = df[\"question_text\"].apply(lambda x: count_regexp_occ(r\"[Ff]\\S{2}[Kk]\", x))\n",
    "    # Number of S word\n",
    "    df[\"nb_sk\"] = df[\"question_text\"].apply(lambda x: count_regexp_occ(r\"[Ss]\\S{2}[Kk]\", x))\n",
    "    # Number of D words\n",
    "    df[\"nb_dk\"] = df[\"question_text\"].apply(lambda x: count_regexp_occ(r\"[dD]ick\", x))\n",
    "    # Number of occurence of You, insulting someone usually needs someone called : you\n",
    "    df[\"nb_you\"] = df[\"question_text\"].apply(lambda x: count_regexp_occ(r\"\\W[Yy]ou\\W\", x))\n",
    "    # Just to check you really refered to my mother ;-)\n",
    "    df[\"nb_mother\"] = df[\"question_text\"].apply(lambda x: count_regexp_occ(r\"\\W[Mm]other\\W\", x))\n",
    "    # Just checking for toxic 19th century vocabulary\n",
    "    df[\"nb_ng\"] = df[\"question_text\"].apply(lambda x: count_regexp_occ(r\"\\W[Nn]igger\\W\", x))\n",
    "    df['sum_expletive'] = df[\"nb_fk\"] + df[\"nb_sk\"] + df[\"nb_dk\"] + df[\"nb_ng\"]\n",
    "    \n",
    "    df['people_person'] = df[\"lower_question_text\"].apply(lambda comment: sum(comment.count(w) for w in ('people', 'person')))\n",
    "    df['trump'] = df[\"lower_question_text\"].apply(lambda comment: sum(comment.count(w) for w in ('trump','donald','president')))\n",
    "    df['women'] = df[\"lower_question_text\"].apply(lambda comment: sum(comment.count(w) for w in ('woman','women', 'girl', 'girls','womens')))\n",
    "    df['men'] = df[\"lower_question_text\"].apply(lambda comment: sum(comment.count(w) for w in ('man','men','mens')))\n",
    "    df['race'] = df[\"lower_question_text\"].apply(lambda comment: sum(comment.count(w) for w in ('white','black','whites','blacks')))\n",
    "    df['china'] = df[\"lower_question_text\"].apply(lambda comment: sum(comment.count(w) for w in ('china','chinese')))\n",
    "    df['india'] = df[\"lower_question_text\"].apply(lambda comment: sum(comment.count(w) for w in ('india','indian','indians')))\n",
    "    df['country'] = df[\"lower_question_text\"].apply(lambda comment: sum(comment.count(w) for w in ('country','countries')))\n",
    "    df['quora'] = df[\"lower_question_text\"].apply(lambda comment: sum(comment.count(w) for w in (['quora'])))\n",
    "    df['america'] = df[\"lower_question_text\"].apply(lambda comment: sum(comment.count(w) for w in ('america','american','americans')))\n",
    "    df['sum_feat'] = df[\"nb_you\"]+df[\"nb_mother\"]+df['sum_expletive']+df['people_person']+df['trump']+df['women']+df['men']+df['race']+df['china']+df['india']+df['country']+df['quora']+df['america']\n",
    "    df['why'] = df[\"lower_question_text\"].apply(lambda comment: fword(comment,'why'))\n",
    "    df['howwhat'] = df[\"lower_question_text\"].apply(lambda comment: fword(comment,'how')+ fword(comment,'what'))\n",
    "    df['doare'] = df[\"lower_question_text\"].apply(lambda comment: fword(comment,'do')+ fword(comment,'are'))\n",
    "    return df"
   ]
  },
  {
   "cell_type": "code",
   "execution_count": 148,
   "metadata": {},
   "outputs": [],
   "source": [
    "def getpolarity(s):\n",
    "    sent = TextBlob(s).sentiment\n",
    "    return sent.polarity\n",
    "def  getsubjectivity(s):\n",
    "    sent = TextBlob(s).sentiment\n",
    "    return sent.subjectivity\n",
    "\n",
    "def count_regexp_occ(regexp=\"\", text=None):\n",
    "    \"\"\" Simple way to get the number of occurence of a regex\"\"\"\n",
    "    return len(re.findall(regexp, text))\n",
    "\n",
    "def fword(x,word):\n",
    "    if (x.split(\" \")[0].lower() ==word):\n",
    "        return 1\n",
    "    else: return 0"
   ]
  },
  {
   "cell_type": "code",
   "execution_count": 149,
   "metadata": {},
   "outputs": [],
   "source": [
    "df=add_features(df)"
   ]
  },
  {
   "cell_type": "code",
   "execution_count": 150,
   "metadata": {},
   "outputs": [],
   "source": [
    "import nltk"
   ]
  },
  {
   "cell_type": "code",
   "execution_count": 151,
   "metadata": {},
   "outputs": [],
   "source": [
    "puncts = [',', '.', '\"', ':', ')', '(', '-', '!', '?', '|', ';', \"'\", '$', '&', '/', '[', ']', '>', '%', '=', '#', '*', '+', '\\\\', '•',  '~', '@', '£', \n",
    " '·', '_', '{', '}', '©', '^', '®', '`',  '<', '→', '°', '€', '™', '›',  '♥', '←', '×', '§', '″', '′', 'Â', '█', '½', 'à', '…', \n",
    " '“', '★', '”', '–', '●', 'â', '►', '−', '¢', '²', '¬', '░', '¶', '↑', '±', '¿', '▾', '═', '¦', '║', '―', '¥', '▓', '—', '‹', '─', \n",
    " '▒', '：', '¼', '⊕', '▼', '▪', '†', '■', '’', '▀', '¨', '▄', '♫', '☆', 'é', '¯', '♦', '¤', '▲', 'è', '¸', '¾', 'Ã', '⋅', '‘', '∞', \n",
    " '∙', '）', '↓', '、', '│', '（', '»', '，', '♪', '╩', '╚', '³', '・', '╦', '╣', '╔', '╗', '▬', '❤', 'ï', 'Ø', '¹', '≤', '‡', '√', ]\n",
    "\n",
    "def clean_text(x):\n",
    "    x = str(x)\n",
    "    for punct in puncts:\n",
    "        if punct in x:\n",
    "            x = x.replace(punct, ' ')\n",
    "    return x\n",
    "mispell_dict = {'colour': 'color', 'centre': 'center', 'favourite': 'favorite', 'travelling': 'traveling', \n",
    "                'counselling': 'counseling', 'theatre': 'theater', 'cancelled': 'canceled', 'labour': 'labor', \n",
    "                'organisation': 'organization', 'wwii': 'world war 2', 'citicise': 'criticize', 'youtu ': 'youtube ', \n",
    "                'Qoura': 'Quora', 'sallary': 'salary', 'Whta': 'What', 'narcisist': 'narcissist', 'howdo': 'how do', \n",
    "                'whatare': 'what are', 'howcan': 'how can', 'howmuch': 'how much', 'howmany': 'how many', 'whydo': 'why do',\n",
    "                'doI': 'do I', 'theBest': 'the best', 'howdoes': 'how does', 'mastrubation': 'masturbation', \n",
    "                'mastrubate': 'masturbate', \"mastrubating\": 'masturbating', 'pennis': 'penis', 'Etherium': 'Ethereum',\n",
    "                'narcissit': 'narcissist', 'bigdata': 'big data', '2k17': '2017', '2k18': '2018', 'qouta': 'quota', \n",
    "                'exboyfriend': 'ex boyfriend', 'airhostess': 'air hostess', \"whst\": 'what', 'watsapp': 'whatsapp', \n",
    "                'demonitisation': 'demonetization', 'demonitization': 'demonetization', 'demonetisation': 'demonetization'}\n",
    "\n",
    "def _get_mispell(mispell_dict):\n",
    "    mispell_re = re.compile('(%s)' % '|'.join(mispell_dict.keys()))\n",
    "    return mispell_dict, mispell_re\n",
    "\n",
    "mispellings, mispellings_re = _get_mispell(mispell_dict)\n",
    "def replace_typical_misspell(text):\n",
    "    def replace(match):\n",
    "        return mispellings[match.group(0)]\n",
    "    return mispellings_re.sub(replace, text)\n",
    "\n",
    "stopword_list = nltk.corpus.stopwords.words('english')\n",
    "def remove_stopwords(text, is_lower_case=True):\n",
    "    tokenizer = ToktokTokenizer()\n",
    "    tokens = tokenizer.tokenize(text)\n",
    "    tokens = [token.strip() for token in tokens]\n",
    "    if is_lower_case:\n",
    "        filtered_tokens = [token for token in tokens if token not in stopword_list]\n",
    "    else:\n",
    "        filtered_tokens = [token for token in tokens if token.lower() not in stopword_list]\n",
    "    filtered_text = ' '.join(filtered_tokens)\n",
    "    return filtered_text\n",
    "\n",
    "#wordnet_lemmatizer = WordNetLemmatizer()\n",
    "def lemma_text(text):\n",
    "    tokenizer = ToktokTokenizer()\n",
    "    tokens = tokenizer.tokenize(text)\n",
    "    tokens = [token.strip() for token in tokens]\n",
    "    tokens = [wordnet_lemmatizer.lemmatize(token) for token in tokens]\n",
    "    return ' '.join(tokens)\n"
   ]
  },
  {
   "cell_type": "code",
   "execution_count": 152,
   "metadata": {},
   "outputs": [],
   "source": [
    "#https://stackoverflow.com/questions/19790188/expanding-english-language-contractions-in-python\n",
    "contraction_dict = {\"ain't\": \"is not\", \"aren't\": \"are not\",\"can't\": \"cannot\", \"'cause\": \"because\", \"could've\": \"could have\",\n",
    "                       \"couldn't\": \"could not\", \"didn't\": \"did not\",  \"doesn't\": \"does not\", \"don't\": \"do not\",\n",
    "                       \"hadn't\": \"had not\", \"hasn't\": \"has not\", \"haven't\": \"have not\", \"he'd\": \"he would\",\"he'll\": \"he will\", \n",
    "                       \"he's\": \"he is\", \"how'd\": \"how did\", \"how'd'y\": \"how do you\", \"how'll\": \"how will\", \"how's\": \"how is\", \n",
    "                       \"I'd\": \"I would\", \"I'd've\": \"I would have\", \"I'll\": \"I will\", \"I'll've\": \"I will have\",\"I'm\": \"I am\", \n",
    "                       \"I've\": \"I have\", \"i'd\": \"i would\", \"i'd've\": \"i would have\", \"i'll\": \"i will\",  \"i'll've\": \"i will have\"\n",
    "                       ,\"i'm\": \"i am\", \"i've\": \"i have\", \"isn't\": \"is not\", \"it'd\": \"it would\", \"it'd've\": \"it would have\",\n",
    "                       \"it'll\": \"it will\", \"it'll've\": \"it will have\",\"it's\": \"it is\", \"let's\": \"let us\", \"ma'am\": \"madam\",\n",
    "                       \"mayn't\": \"may not\", \"might've\": \"might have\",\"mightn't\": \"might not\",\"mightn't've\": \"might not have\", \n",
    "                       \"must've\": \"must have\", \"mustn't\": \"must not\", \"mustn't've\": \"must not have\", \"needn't\": \"need not\",\n",
    "                       \"needn't've\": \"need not have\",\"o'clock\": \"of the clock\", \"oughtn't\": \"ought not\",\n",
    "                       \"oughtn't've\": \"ought not have\", \"shan't\": \"shall not\", \"sha'n't\": \"shall not\",\n",
    "                       \"shan't've\": \"shall not have\", \"she'd\": \"she would\", \"she'd've\": \"she would have\",\n",
    "                       \"she'll\": \"she will\", \"she'll've\": \"she will have\", \"she's\": \"she is\", \"should've\": \"should have\",\n",
    "                       \"shouldn't\": \"should not\", \"shouldn't've\": \"should not have\", \"so've\": \"so have\",\"so's\": \"so as\", \n",
    "                       \"this's\": \"this is\",\"that'd\": \"that would\", \"that'd've\": \"that would have\", \"that's\": \"that is\",\n",
    "                       \"there'd\": \"there would\", \"there'd've\": \"there would have\", \"there's\": \"there is\",\n",
    "                       \"here's\": \"here is\",\"they'd\": \"they would\", \"they'd've\": \"they would have\", \"they'll\": \"they will\", \n",
    "                       \"they'll've\": \"they will have\", \"they're\": \"they are\", \"they've\": \"they have\", \"to've\": \"to have\",\n",
    "                       \"wasn't\": \"was not\", \"we'd\": \"we would\", \"we'd've\": \"we would have\", \"we'll\": \"we will\",\n",
    "                       \"we'll've\": \"we will have\", \"we're\": \"we are\", \"we've\": \"we have\", \"weren't\": \"were not\",\n",
    "                       \"what'll\": \"what will\", \"what'll've\": \"what will have\", \"what're\": \"what are\",  \"what's\": \"what is\", \n",
    "                       \"what've\": \"what have\", \"when's\": \"when is\", \"when've\": \"when have\", \"where'd\": \"where did\",\n",
    "                       \"where's\": \"where is\", \"where've\": \"where have\", \"who'll\": \"who will\", \"who'll've\": \"who will have\",\n",
    "                       \"who's\": \"who is\", \"who've\": \"who have\", \"why's\": \"why is\", \"why've\": \"why have\", \"will've\": \"will have\"\n",
    "                       , \"won't\": \"will not\", \"won't've\": \"will not have\", \"would've\": \"would have\", \"wouldn't\": \"would not\",\n",
    "                       \"wouldn't've\": \"would not have\", \"y'all\": \"you all\", \"y'all'd\": \"you all would\",\"y'all'd've\": \"you all would have\",\n",
    "                       \"y'all're\": \"you all are\",\"y'all've\": \"you all have\",\"you'd\": \"you would\", \"you'd've\": \"you would have\",\n",
    "                       \"you'll\": \"you will\", \"you'll've\": \"you will have\", \"you're\": \"you are\", \"you've\": \"you have\" }\n",
    "def _get_contractions(contraction_dict):\n",
    "    contraction_re = re.compile('(%s)' % '|'.join(contraction_dict.keys()))\n",
    "    return contraction_dict, contraction_re\n",
    "\n",
    "contractions, contractions_re = _get_contractions(contraction_dict)\n",
    "\n",
    "def replace_contractions(text):\n",
    "    def replace(match):\n",
    "        return contractions[match.group(0)]\n",
    "    return contractions_re.sub(replace, text)\n"
   ]
  },
  {
   "cell_type": "code",
   "execution_count": 153,
   "metadata": {},
   "outputs": [],
   "source": [
    "#fxn for preprocessing\n",
    "def clean_sentence(x):\n",
    "    x = x.lower()\n",
    "    x = clean_text(x)\n",
    "    x = replace_typical_misspell(x)\n",
    "    x = remove_stopwords(x)\n",
    "    x = replace_contractions(x)\n",
    "    #x = lemma_text(x)\n",
    "    x = x.replace(\"'\",\"\")\n",
    "    return x"
   ]
  },
  {
   "cell_type": "code",
   "execution_count": 154,
   "metadata": {},
   "outputs": [],
   "source": [
    "#df['question_te']=df['question_text'].apply(lambda x: replace_contractions(x))"
   ]
  },
  {
   "cell_type": "raw",
   "metadata": {},
   "source": [
    "def preprocess(df):\n",
    "    df=df.apply(lambda x:re.sub(r'[^A-Za-z]',\" \",str(x)) ) \n",
    "    df=df.apply(lambda x: word_tokenize(x))\n",
    "    df=df.apply(lambda x:\" \".join(word.lower() for word in x if word not in stop_words and len(word)>1))\n",
    "    #df['text1']=df['text1'].apply(lambda x: str(TextBlob(x).correct()))  ## taking a lot of time\n",
    "    #df=df.apply(lambda x: \" \".join([st.stem(word) for word in x.split()]))\n",
    "    return df"
   ]
  },
  {
   "cell_type": "code",
   "execution_count": 155,
   "metadata": {},
   "outputs": [],
   "source": [
    "df['cleaned_text'] = df['question_text'].apply(lambda x : clean_sentence(x))"
   ]
  },
  {
   "cell_type": "code",
   "execution_count": 156,
   "metadata": {},
   "outputs": [
    {
     "data": {
      "text/plain": [
       "0        quebec nationalists see province nation 1960s\n",
       "1        adopted dog would encourage people adopt shop\n",
       "2    velocity affect time velocity affect space geo...\n",
       "3         otto von guericke used magdeburg hemispheres\n",
       "4    convert montra helicon mountain bike changing ...\n",
       "Name: cleaned_text, dtype: object"
      ]
     },
     "execution_count": 156,
     "metadata": {},
     "output_type": "execute_result"
    }
   ],
   "source": [
    "df['cleaned_text'][0:5]"
   ]
  },
  {
   "cell_type": "code",
   "execution_count": 157,
   "metadata": {},
   "outputs": [],
   "source": [
    "#best threshold fxn\n",
    "def bestThresshold(y_train,train_preds):\n",
    "    tmp = [0,0,0] # idx, cur, max\n",
    "    delta = 0\n",
    "    for tmp[0] in tqdm(np.arange(0.1, 0.501, 0.01)):\n",
    "        tmp[1] = f1_score(y_train, np.array(train_preds)>tmp[0])\n",
    "        if tmp[1] > tmp[2]:\n",
    "            delta = tmp[0]\n",
    "            tmp[2] = tmp[1]\n",
    "    print('best threshold is {:.4f} with F1 score: {:.4f}'.format(delta, tmp[2]))\n",
    "    return tmp[2]"
   ]
  },
  {
   "cell_type": "code",
   "execution_count": 158,
   "metadata": {},
   "outputs": [],
   "source": [
    "y=df[\"target\"]"
   ]
  },
  {
   "cell_type": "code",
   "execution_count": 159,
   "metadata": {},
   "outputs": [],
   "source": [
    "def model_train_cv(x_train,y_train,nfold,model_obj):\n",
    "    splits = list(StratifiedKFold(n_splits=nfold, shuffle=True, random_state=1028).split(x_train, y_train))\n",
    "    x_train = x_train\n",
    "    y_train = np.array(y_train)\n",
    "    # matrix for the out-of-fold predictions\n",
    "    train_oof_preds = np.zeros((x_train.shape[0]))\n",
    "    for i, (train_idx, valid_idx) in enumerate(splits):\n",
    "\n",
    "        x_train_fold = x_train[train_idx.astype(int)]\n",
    "        y_train_fold = y_train[train_idx.astype(int)]\n",
    "        x_val_fold = x_train[valid_idx.astype(int)]\n",
    "        y_val_fold = y_train[valid_idx.astype(int)]\n",
    "\n",
    "        clf = copy.deepcopy(model_obj)\n",
    "        clf.fit(x_train_fold, y_train_fold)\n",
    "        valid_preds_fold = clf.predict_proba(x_val_fold)[:,1]\n",
    "\n",
    "        # storing OOF predictions\n",
    "        train_oof_preds[valid_idx] = valid_preds_fold\n",
    "    return train_oof_preds"
   ]
  },
  {
   "cell_type": "code",
   "execution_count": 160,
   "metadata": {},
   "outputs": [],
   "source": [
    "#Applying algorithms now:"
   ]
  },
  {
   "cell_type": "code",
   "execution_count": 171,
   "metadata": {},
   "outputs": [],
   "source": [
    "train=df.drop(['question_text','cleaned_text','target','qid','lower_question_text'],axis=1)\n",
    "#valid=X_valid.drop(['question_text','cleaned_text','target','qid','lower_question_text'],axis=1)"
   ]
  },
  {
   "cell_type": "code",
   "execution_count": 173,
   "metadata": {},
   "outputs": [
    {
     "name": "stdout",
     "output_type": "stream",
     "text": [
      "(1306122, 36)\n"
     ]
    }
   ],
   "source": [
    "print(train.shape)\n"
   ]
  },
  {
   "cell_type": "code",
   "execution_count": 174,
   "metadata": {},
   "outputs": [],
   "source": [
    "cnt_vectorizer = CountVectorizer(dtype=np.float32,\n",
    "            strip_accents='unicode', analyzer='word',token_pattern=r'\\w{1,}',\n",
    "            ngram_range=(1, 3),min_df=3)\n",
    "\n",
    "# Fitting count vectorizer to both training and test sets (semi-supervised learning)\n",
    "cnt_vectorizer.fit(df['cleaned_text'])\n",
    "Xtrain =  cnt_vectorizer.transform(df['cleaned_text']) \n",
    "#xtest_cntv = cnt_vectorizer.transform(test_df.cleaned_text.values)\n",
    "#Xvalid= cnt_vectorizer.transform(X_valid['cleaned_text']) "
   ]
  },
  {
   "cell_type": "code",
   "execution_count": 175,
   "metadata": {},
   "outputs": [],
   "source": [
    "from scipy.sparse import coo_matrix, hstack\n",
    "Xtrain=hstack([Xtrain,train])\n",
    "#Xvalid=hstack([Xvalid,valid])"
   ]
  },
  {
   "cell_type": "code",
   "execution_count": 176,
   "metadata": {},
   "outputs": [
    {
     "data": {
      "text/plain": [
       "(1306122, 549302)"
      ]
     },
     "execution_count": 176,
     "metadata": {},
     "output_type": "execute_result"
    }
   ],
   "source": [
    "Xtrain.shape"
   ]
  },
  {
   "cell_type": "code",
   "execution_count": 177,
   "metadata": {},
   "outputs": [],
   "source": [
    "x_train=Xtrain.tocsr()\n"
   ]
  },
  {
   "cell_type": "code",
   "execution_count": 179,
   "metadata": {},
   "outputs": [
    {
     "data": {
      "application/vnd.jupyter.widget-view+json": {
       "model_id": "fd7181c686e348978ad9761ac51c07d5",
       "version_major": 2,
       "version_minor": 0
      },
      "text/plain": [
       "HBox(children=(IntProgress(value=0, max=41), HTML(value='')))"
      ]
     },
     "metadata": {},
     "output_type": "display_data"
    },
    {
     "name": "stdout",
     "output_type": "stream",
     "text": [
      "\n",
      "best threshold is 0.2200 with F1 score: 0.6234\n",
      "F1 Score: 0.623 \n"
     ]
    }
   ],
   "source": [
    "train_oof_preds = model_train_cv(x_train,y,5,LogisticRegression(C=1.0))\n",
    "\n",
    "print (\"F1 Score: %0.3f \" % bestThresshold(y,train_oof_preds))"
   ]
  },
  {
   "cell_type": "code",
   "execution_count": 180,
   "metadata": {},
   "outputs": [],
   "source": [
    "def lgb_model_train_cv(x_train,y_train,nfold,lgb):\n",
    "    splits = list(StratifiedKFold(n_splits=nfold, shuffle=True, random_state=SEED).split(x_train, y_train))\n",
    "    x_train = x_train\n",
    "    y_train = np.array(y_train)\n",
    "    # matrix for the out-of-fold predictions\n",
    "    train_oof_preds = np.zeros((x_train.shape[0]))\n",
    "    for i, (train_idx, valid_idx) in enumerate(splits):\n",
    "        x_train_fold = x_train[train_idx.astype(int)]\n",
    "        y_train_fold = y_train[train_idx.astype(int)]\n",
    "        x_val_fold = x_train[valid_idx.astype(int)]\n",
    "        y_val_fold = y_train[valid_idx.astype(int)]\n",
    "        d_train = lgb.Dataset(x_train_fold, label=y_train_fold)\n",
    "        d_val = lgb.Dataset(x_val_fold, label=y_val_fold)\n",
    "        params = {}\n",
    "        params['learning_rate'] = 0.01\n",
    "        params['boosting_type'] = 'gbdt'\n",
    "        params['objective'] = 'binary'\n",
    "        params['metric'] = 'binary_logloss'\n",
    "        params['sub_feature'] = 0.5\n",
    "        params['num_leaves'] = 10\n",
    "        params['min_data'] = 50\n",
    "        params['max_depth'] = 10\n",
    "        \n",
    "        clf = lgb.train(params, d_train, num_boost_round = 100,valid_sets=(d_val), early_stopping_rounds=10,verbose_eval=10)\n",
    "        valid_preds_fold = clf.predict(x_val_fold)\n",
    "        # storing OOF predictions\n",
    "        train_oof_preds[valid_idx] = valid_preds_fold\n",
    "    return train_oof_preds"
   ]
  },
  {
   "cell_type": "code",
   "execution_count": 181,
   "metadata": {},
   "outputs": [],
   "source": [
    "#LGBM"
   ]
  },
  {
   "cell_type": "code",
   "execution_count": 182,
   "metadata": {},
   "outputs": [
    {
     "name": "stdout",
     "output_type": "stream",
     "text": [
      "Training until validation scores don't improve for 10 rounds.\n",
      "[10]\tvalid_0's binary_logloss: 0.221304\n",
      "[20]\tvalid_0's binary_logloss: 0.213164\n",
      "[30]\tvalid_0's binary_logloss: 0.206825\n",
      "[40]\tvalid_0's binary_logloss: 0.201629\n",
      "[50]\tvalid_0's binary_logloss: 0.197269\n",
      "[60]\tvalid_0's binary_logloss: 0.193689\n",
      "[70]\tvalid_0's binary_logloss: 0.190401\n",
      "[80]\tvalid_0's binary_logloss: 0.187697\n",
      "[90]\tvalid_0's binary_logloss: 0.185149\n",
      "[100]\tvalid_0's binary_logloss: 0.182886\n",
      "Did not meet early stopping. Best iteration is:\n",
      "[100]\tvalid_0's binary_logloss: 0.182886\n",
      "Training until validation scores don't improve for 10 rounds.\n",
      "[10]\tvalid_0's binary_logloss: 0.221167\n",
      "[20]\tvalid_0's binary_logloss: 0.212873\n",
      "[30]\tvalid_0's binary_logloss: 0.206807\n",
      "[40]\tvalid_0's binary_logloss: 0.201952\n",
      "[50]\tvalid_0's binary_logloss: 0.197481\n",
      "[60]\tvalid_0's binary_logloss: 0.193833\n",
      "[70]\tvalid_0's binary_logloss: 0.190556\n",
      "[80]\tvalid_0's binary_logloss: 0.187774\n",
      "[90]\tvalid_0's binary_logloss: 0.185273\n",
      "[100]\tvalid_0's binary_logloss: 0.183063\n",
      "Did not meet early stopping. Best iteration is:\n",
      "[100]\tvalid_0's binary_logloss: 0.183063\n",
      "Training until validation scores don't improve for 10 rounds.\n",
      "[10]\tvalid_0's binary_logloss: 0.221414\n",
      "[20]\tvalid_0's binary_logloss: 0.213498\n",
      "[30]\tvalid_0's binary_logloss: 0.206871\n",
      "[40]\tvalid_0's binary_logloss: 0.201641\n",
      "[50]\tvalid_0's binary_logloss: 0.197639\n",
      "[60]\tvalid_0's binary_logloss: 0.193757\n",
      "[70]\tvalid_0's binary_logloss: 0.190405\n",
      "[80]\tvalid_0's binary_logloss: 0.187558\n",
      "[90]\tvalid_0's binary_logloss: 0.185018\n",
      "[100]\tvalid_0's binary_logloss: 0.182704\n",
      "Did not meet early stopping. Best iteration is:\n",
      "[100]\tvalid_0's binary_logloss: 0.182704\n",
      "Training until validation scores don't improve for 10 rounds.\n",
      "[10]\tvalid_0's binary_logloss: 0.220982\n",
      "[20]\tvalid_0's binary_logloss: 0.212799\n",
      "[30]\tvalid_0's binary_logloss: 0.206494\n",
      "[40]\tvalid_0's binary_logloss: 0.201489\n",
      "[50]\tvalid_0's binary_logloss: 0.196991\n",
      "[60]\tvalid_0's binary_logloss: 0.193348\n",
      "[70]\tvalid_0's binary_logloss: 0.190037\n",
      "[80]\tvalid_0's binary_logloss: 0.187159\n",
      "[90]\tvalid_0's binary_logloss: 0.184551\n",
      "[100]\tvalid_0's binary_logloss: 0.182326\n",
      "Did not meet early stopping. Best iteration is:\n",
      "[100]\tvalid_0's binary_logloss: 0.182326\n",
      "Training until validation scores don't improve for 10 rounds.\n",
      "[10]\tvalid_0's binary_logloss: 0.221112\n",
      "[20]\tvalid_0's binary_logloss: 0.212876\n",
      "[30]\tvalid_0's binary_logloss: 0.206353\n",
      "[40]\tvalid_0's binary_logloss: 0.20111\n",
      "[50]\tvalid_0's binary_logloss: 0.196892\n",
      "[60]\tvalid_0's binary_logloss: 0.193103\n",
      "[70]\tvalid_0's binary_logloss: 0.190104\n",
      "[80]\tvalid_0's binary_logloss: 0.187412\n",
      "[90]\tvalid_0's binary_logloss: 0.184885\n",
      "[100]\tvalid_0's binary_logloss: 0.182669\n",
      "Did not meet early stopping. Best iteration is:\n",
      "[100]\tvalid_0's binary_logloss: 0.182669\n"
     ]
    }
   ],
   "source": [
    "import lightgbm as lgb\n",
    "SEED=1028\n",
    "train_oof_preds = lgb_model_train_cv(x_train,y,5,lgb)\n"
   ]
  },
  {
   "cell_type": "code",
   "execution_count": 184,
   "metadata": {},
   "outputs": [
    {
     "data": {
      "application/vnd.jupyter.widget-view+json": {
       "model_id": "b4091e27dbce4650af46e860786ca9d0",
       "version_major": 2,
       "version_minor": 0
      },
      "text/plain": [
       "HBox(children=(IntProgress(value=0, max=41), HTML(value='')))"
      ]
     },
     "metadata": {},
     "output_type": "display_data"
    },
    {
     "name": "stdout",
     "output_type": "stream",
     "text": [
      "\n",
      "best threshold is 0.1300 with F1 score: 0.4618\n",
      "F1 Score: 0.462 \n"
     ]
    }
   ],
   "source": [
    "print (\"F1 Score: %0.3f \" % bestThresshold(y,train_oof_preds))\n"
   ]
  },
  {
   "cell_type": "code",
   "execution_count": 185,
   "metadata": {},
   "outputs": [],
   "source": [
    "#TFIDF"
   ]
  },
  {
   "cell_type": "code",
   "execution_count": 186,
   "metadata": {},
   "outputs": [],
   "source": [
    "tfv = TfidfVectorizer(dtype=np.float32, min_df=3,  max_features=None, \n",
    "            strip_accents='unicode', analyzer='word',token_pattern=r'\\w{1,}',\n",
    "            ngram_range=(1, 3), use_idf=1,smooth_idf=1,sublinear_tf=1,\n",
    "            stop_words = 'english')\n",
    "\n",
    "# Fitting TF-IDF to both training and test sets (semi-supervised learning)\n",
    "tfv.fit(list(df['cleaned_text'].values) )\n",
    "xtrain =  tfv.transform(df['cleaned_text'].values) \n",
    "#xtest_tfv = tfv.transform(test_df.cleaned_text.values)\n",
    "#xvalid=tfv.transform(X_valid['cleaned_text'].values)\n"
   ]
  },
  {
   "cell_type": "code",
   "execution_count": 187,
   "metadata": {},
   "outputs": [
    {
     "data": {
      "text/plain": [
       "(1306122, 482781)"
      ]
     },
     "execution_count": 187,
     "metadata": {},
     "output_type": "execute_result"
    }
   ],
   "source": [
    "xtrain.shape"
   ]
  },
  {
   "cell_type": "code",
   "execution_count": 188,
   "metadata": {},
   "outputs": [],
   "source": [
    "import scipy\n",
    "from scipy.sparse import coo_matrix, hstack\n",
    "Xtrain=scipy.sparse.hstack((xtrain,train))\n",
    "#Xvalid=scipy.sparse.hstack((xvalid,valid))"
   ]
  },
  {
   "cell_type": "code",
   "execution_count": 191,
   "metadata": {},
   "outputs": [],
   "source": [
    "Xtrain=Xtrain.tocsr()"
   ]
  },
  {
   "cell_type": "code",
   "execution_count": 192,
   "metadata": {},
   "outputs": [
    {
     "data": {
      "application/vnd.jupyter.widget-view+json": {
       "model_id": "95d60b567609439cab09a3282c461285",
       "version_major": 2,
       "version_minor": 0
      },
      "text/plain": [
       "HBox(children=(IntProgress(value=0, max=41), HTML(value='')))"
      ]
     },
     "metadata": {},
     "output_type": "display_data"
    },
    {
     "name": "stdout",
     "output_type": "stream",
     "text": [
      "\n",
      "best threshold is 0.2400 with F1 score: 0.6240\n",
      "F1 Score: 0.624 \n"
     ]
    }
   ],
   "source": [
    "train_oof_preds = model_train_cv(Xtrain,y,5,LogisticRegression(C=1.0))\n",
    "\n",
    "print (\"F1 Score: %0.3f \" % bestThresshold(y,train_oof_preds))"
   ]
  },
  {
   "cell_type": "code",
   "execution_count": 193,
   "metadata": {},
   "outputs": [
    {
     "name": "stdout",
     "output_type": "stream",
     "text": [
      "Training until validation scores don't improve for 10 rounds.\n",
      "[10]\tvalid_0's binary_logloss: 0.221327\n",
      "[20]\tvalid_0's binary_logloss: 0.212847\n",
      "[30]\tvalid_0's binary_logloss: 0.206666\n",
      "[40]\tvalid_0's binary_logloss: 0.201762\n",
      "[50]\tvalid_0's binary_logloss: 0.197447\n",
      "[60]\tvalid_0's binary_logloss: 0.193861\n",
      "[70]\tvalid_0's binary_logloss: 0.190467\n",
      "[80]\tvalid_0's binary_logloss: 0.187586\n",
      "[90]\tvalid_0's binary_logloss: 0.185069\n",
      "[100]\tvalid_0's binary_logloss: 0.182841\n",
      "Did not meet early stopping. Best iteration is:\n",
      "[100]\tvalid_0's binary_logloss: 0.182841\n",
      "Training until validation scores don't improve for 10 rounds.\n",
      "[10]\tvalid_0's binary_logloss: 0.221881\n",
      "[20]\tvalid_0's binary_logloss: 0.214171\n",
      "[30]\tvalid_0's binary_logloss: 0.20788\n",
      "[40]\tvalid_0's binary_logloss: 0.202406\n",
      "[50]\tvalid_0's binary_logloss: 0.198059\n",
      "[60]\tvalid_0's binary_logloss: 0.194167\n",
      "[70]\tvalid_0's binary_logloss: 0.190854\n",
      "[80]\tvalid_0's binary_logloss: 0.187888\n",
      "[90]\tvalid_0's binary_logloss: 0.185292\n",
      "[100]\tvalid_0's binary_logloss: 0.182954\n",
      "Did not meet early stopping. Best iteration is:\n",
      "[100]\tvalid_0's binary_logloss: 0.182954\n",
      "Training until validation scores don't improve for 10 rounds.\n",
      "[10]\tvalid_0's binary_logloss: 0.221041\n",
      "[20]\tvalid_0's binary_logloss: 0.212831\n",
      "[30]\tvalid_0's binary_logloss: 0.206434\n",
      "[40]\tvalid_0's binary_logloss: 0.20154\n",
      "[50]\tvalid_0's binary_logloss: 0.197098\n",
      "[60]\tvalid_0's binary_logloss: 0.193437\n",
      "[70]\tvalid_0's binary_logloss: 0.190247\n",
      "[80]\tvalid_0's binary_logloss: 0.187464\n",
      "[90]\tvalid_0's binary_logloss: 0.184991\n",
      "[100]\tvalid_0's binary_logloss: 0.182794\n",
      "Did not meet early stopping. Best iteration is:\n",
      "[100]\tvalid_0's binary_logloss: 0.182794\n",
      "Training until validation scores don't improve for 10 rounds.\n",
      "[10]\tvalid_0's binary_logloss: 0.221028\n",
      "[20]\tvalid_0's binary_logloss: 0.212882\n",
      "[30]\tvalid_0's binary_logloss: 0.206751\n",
      "[40]\tvalid_0's binary_logloss: 0.201852\n",
      "[50]\tvalid_0's binary_logloss: 0.197425\n",
      "[60]\tvalid_0's binary_logloss: 0.193546\n",
      "[70]\tvalid_0's binary_logloss: 0.190392\n",
      "[80]\tvalid_0's binary_logloss: 0.187503\n",
      "[90]\tvalid_0's binary_logloss: 0.184808\n",
      "[100]\tvalid_0's binary_logloss: 0.182506\n",
      "Did not meet early stopping. Best iteration is:\n",
      "[100]\tvalid_0's binary_logloss: 0.182506\n",
      "Training until validation scores don't improve for 10 rounds.\n",
      "[10]\tvalid_0's binary_logloss: 0.221035\n",
      "[20]\tvalid_0's binary_logloss: 0.213323\n",
      "[30]\tvalid_0's binary_logloss: 0.206721\n",
      "[40]\tvalid_0's binary_logloss: 0.201573\n",
      "[50]\tvalid_0's binary_logloss: 0.197209\n",
      "[60]\tvalid_0's binary_logloss: 0.193613\n",
      "[70]\tvalid_0's binary_logloss: 0.190505\n",
      "[80]\tvalid_0's binary_logloss: 0.187598\n",
      "[90]\tvalid_0's binary_logloss: 0.185183\n",
      "[100]\tvalid_0's binary_logloss: 0.182995\n",
      "Did not meet early stopping. Best iteration is:\n",
      "[100]\tvalid_0's binary_logloss: 0.182995\n"
     ]
    },
    {
     "data": {
      "application/vnd.jupyter.widget-view+json": {
       "model_id": "79c8f5dcc5084b8683497ee0e4ac8713",
       "version_major": 2,
       "version_minor": 0
      },
      "text/plain": [
       "HBox(children=(IntProgress(value=0, max=41), HTML(value='')))"
      ]
     },
     "metadata": {},
     "output_type": "display_data"
    },
    {
     "name": "stdout",
     "output_type": "stream",
     "text": [
      "\n",
      "best threshold is 0.1300 with F1 score: 0.4615\n",
      "F1 Score: 0.462 \n"
     ]
    }
   ],
   "source": [
    "train_oof_preds = lgb_model_train_cv(Xtrain,y,5,lgb)\n",
    "print (\"F1 Score: %0.3f \" % bestThresshold(y,train_oof_preds))"
   ]
  },
  {
   "cell_type": "code",
   "execution_count": null,
   "metadata": {},
   "outputs": [],
   "source": []
  },
  {
   "cell_type": "code",
   "execution_count": null,
   "metadata": {},
   "outputs": [],
   "source": [
    "#hashing "
   ]
  },
  {
   "cell_type": "code",
   "execution_count": 46,
   "metadata": {},
   "outputs": [],
   "source": [
    "import lightgbm as lgb"
   ]
  },
  {
   "cell_type": "code",
   "execution_count": 194,
   "metadata": {},
   "outputs": [],
   "source": [
    "hv = HashingVectorizer(dtype=np.float32,\n",
    "            strip_accents='unicode', analyzer='word',\n",
    "            ngram_range=(1, 3),n_features=2**10,non_negative=True)\n",
    "# Fitting Hash Vectorizer to both training and test sets (semi-supervised learning)\n",
    "hv.fit(list(df.cleaned_text.values))\n",
    "xtrain =  hv.transform(df.cleaned_text.values) \n",
    "#xtest_hv = hv.transform(test_df.cleaned_text.values)\n",
    "#y_train = train_df.target.values"
   ]
  },
  {
   "cell_type": "code",
   "execution_count": 195,
   "metadata": {},
   "outputs": [],
   "source": [
    "import scipy\n",
    "from scipy.sparse import coo_matrix, hstack\n",
    "Xtrain=scipy.sparse.hstack((xtrain,train))\n",
    "#Xvalid=scipy.sparse.hstack((xvalid,valid))"
   ]
  },
  {
   "cell_type": "code",
   "execution_count": 197,
   "metadata": {},
   "outputs": [],
   "source": [
    "Xtrain=Xtrain.tocsr()"
   ]
  },
  {
   "cell_type": "code",
   "execution_count": 198,
   "metadata": {},
   "outputs": [
    {
     "data": {
      "application/vnd.jupyter.widget-view+json": {
       "model_id": "e7bac00f4df74dc180897ecb8d26e910",
       "version_major": 2,
       "version_minor": 0
      },
      "text/plain": [
       "HBox(children=(IntProgress(value=0, max=41), HTML(value='')))"
      ]
     },
     "metadata": {},
     "output_type": "display_data"
    },
    {
     "name": "stdout",
     "output_type": "stream",
     "text": [
      "\n",
      "best threshold is 0.2000 with F1 score: 0.4673\n",
      "F1 Score: 0.467 \n"
     ]
    }
   ],
   "source": [
    "train_oof_preds = model_train_cv(Xtrain,y,5,LogisticRegression(C=1.0))\n",
    "\n",
    "print (\"F1 Score: %0.3f \" % bestThresshold(y,train_oof_preds))"
   ]
  },
  {
   "cell_type": "code",
   "execution_count": 199,
   "metadata": {
    "scrolled": true
   },
   "outputs": [
    {
     "name": "stdout",
     "output_type": "stream",
     "text": [
      "Training until validation scores don't improve for 10 rounds.\n",
      "[10]\tvalid_0's binary_logloss: 0.222411\n",
      "[20]\tvalid_0's binary_logloss: 0.215407\n",
      "[30]\tvalid_0's binary_logloss: 0.209223\n",
      "[40]\tvalid_0's binary_logloss: 0.204264\n",
      "[50]\tvalid_0's binary_logloss: 0.200228\n",
      "[60]\tvalid_0's binary_logloss: 0.196899\n",
      "[70]\tvalid_0's binary_logloss: 0.193981\n",
      "[80]\tvalid_0's binary_logloss: 0.191363\n",
      "[90]\tvalid_0's binary_logloss: 0.189048\n",
      "[100]\tvalid_0's binary_logloss: 0.186829\n",
      "Did not meet early stopping. Best iteration is:\n",
      "[100]\tvalid_0's binary_logloss: 0.186829\n",
      "Training until validation scores don't improve for 10 rounds.\n",
      "[10]\tvalid_0's binary_logloss: 0.22294\n",
      "[20]\tvalid_0's binary_logloss: 0.215522\n",
      "[30]\tvalid_0's binary_logloss: 0.209465\n",
      "[40]\tvalid_0's binary_logloss: 0.204439\n",
      "[50]\tvalid_0's binary_logloss: 0.200119\n",
      "[60]\tvalid_0's binary_logloss: 0.196649\n",
      "[70]\tvalid_0's binary_logloss: 0.193636\n",
      "[80]\tvalid_0's binary_logloss: 0.191116\n",
      "[90]\tvalid_0's binary_logloss: 0.188788\n",
      "[100]\tvalid_0's binary_logloss: 0.186757\n",
      "Did not meet early stopping. Best iteration is:\n",
      "[100]\tvalid_0's binary_logloss: 0.186757\n",
      "Training until validation scores don't improve for 10 rounds.\n",
      "[10]\tvalid_0's binary_logloss: 0.222356\n",
      "[20]\tvalid_0's binary_logloss: 0.215259\n",
      "[30]\tvalid_0's binary_logloss: 0.209017\n",
      "[40]\tvalid_0's binary_logloss: 0.20397\n",
      "[50]\tvalid_0's binary_logloss: 0.199892\n",
      "[60]\tvalid_0's binary_logloss: 0.196524\n",
      "[70]\tvalid_0's binary_logloss: 0.193594\n",
      "[80]\tvalid_0's binary_logloss: 0.190946\n",
      "[90]\tvalid_0's binary_logloss: 0.188605\n",
      "[100]\tvalid_0's binary_logloss: 0.18637\n",
      "Did not meet early stopping. Best iteration is:\n",
      "[100]\tvalid_0's binary_logloss: 0.18637\n",
      "Training until validation scores don't improve for 10 rounds.\n",
      "[10]\tvalid_0's binary_logloss: 0.222296\n",
      "[20]\tvalid_0's binary_logloss: 0.215184\n",
      "[30]\tvalid_0's binary_logloss: 0.208946\n",
      "[40]\tvalid_0's binary_logloss: 0.20386\n",
      "[50]\tvalid_0's binary_logloss: 0.199788\n",
      "[60]\tvalid_0's binary_logloss: 0.19641\n",
      "[70]\tvalid_0's binary_logloss: 0.193456\n",
      "[80]\tvalid_0's binary_logloss: 0.190792\n",
      "[90]\tvalid_0's binary_logloss: 0.188434\n",
      "[100]\tvalid_0's binary_logloss: 0.186149\n",
      "Did not meet early stopping. Best iteration is:\n",
      "[100]\tvalid_0's binary_logloss: 0.186149\n",
      "Training until validation scores don't improve for 10 rounds.\n",
      "[10]\tvalid_0's binary_logloss: 0.223703\n",
      "[20]\tvalid_0's binary_logloss: 0.216136\n",
      "[30]\tvalid_0's binary_logloss: 0.20984\n",
      "[40]\tvalid_0's binary_logloss: 0.20473\n",
      "[50]\tvalid_0's binary_logloss: 0.200338\n",
      "[60]\tvalid_0's binary_logloss: 0.196834\n",
      "[70]\tvalid_0's binary_logloss: 0.193705\n",
      "[80]\tvalid_0's binary_logloss: 0.190955\n",
      "[90]\tvalid_0's binary_logloss: 0.188516\n",
      "[100]\tvalid_0's binary_logloss: 0.186456\n",
      "Did not meet early stopping. Best iteration is:\n",
      "[100]\tvalid_0's binary_logloss: 0.186456\n"
     ]
    },
    {
     "data": {
      "application/vnd.jupyter.widget-view+json": {
       "model_id": "978a8d1f5de14bfaa456e25f6ff49c1d",
       "version_major": 2,
       "version_minor": 0
      },
      "text/plain": [
       "HBox(children=(IntProgress(value=0, max=41), HTML(value='')))"
      ]
     },
     "metadata": {},
     "output_type": "display_data"
    },
    {
     "name": "stdout",
     "output_type": "stream",
     "text": [
      "\n",
      "best threshold is 0.1300 with F1 score: 0.4298\n",
      "F1 Score: 0.430 \n"
     ]
    }
   ],
   "source": [
    "train_oof_preds = lgb_model_train_cv(Xtrain,y,5,lgb)\n",
    "print (\"F1 Score: %0.3f \" % bestThresshold(y,train_oof_preds))"
   ]
  }
 ],
 "metadata": {
  "kernelspec": {
   "display_name": "Python 3",
   "language": "python",
   "name": "python3"
  },
  "language_info": {
   "codemirror_mode": {
    "name": "ipython",
    "version": 3
   },
   "file_extension": ".py",
   "mimetype": "text/x-python",
   "name": "python",
   "nbconvert_exporter": "python",
   "pygments_lexer": "ipython3",
   "version": "3.6.5"
  }
 },
 "nbformat": 4,
 "nbformat_minor": 2
}
